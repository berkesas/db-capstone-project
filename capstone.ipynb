{
 "cells": [
  {
   "cell_type": "code",
   "execution_count": 2,
   "id": "8a321891",
   "metadata": {},
   "outputs": [],
   "source": [
    "import mysql.connector as connector"
   ]
  },
  {
   "cell_type": "code",
   "execution_count": 19,
   "id": "6b461ef3",
   "metadata": {},
   "outputs": [
    {
     "name": "stdout",
     "output_type": "stream",
     "text": [
      "<mysql.connector.connection.MySQLConnection object at 0x000002E429D34750>\n"
     ]
    }
   ],
   "source": [
    "#Task 1\n",
    "connection = connector.connect(user = \"workbench\", password = \"1\", db=\"littlelemondb\")\n",
    "print(connection)"
   ]
  },
  {
   "cell_type": "code",
   "execution_count": 20,
   "id": "acc7ae15",
   "metadata": {},
   "outputs": [
    {
     "name": "stdout",
     "output_type": "stream",
     "text": [
      "[('bookings',), ('customers',), ('deliverystatus',), ('employees',), ('menuitems',), ('menus',), ('orders',), ('ordersview',)]\n"
     ]
    }
   ],
   "source": [
    "#Task 2\n",
    "show_tables_query = \"SHOW tables\" \n",
    "cursor = connection.cursor()\n",
    "cursor.execute(show_tables_query)\n",
    "results = cursor.fetchall()\n",
    "print(results)"
   ]
  },
  {
   "cell_type": "code",
   "execution_count": 22,
   "id": "4c403bb0",
   "metadata": {},
   "outputs": [
    {
     "name": "stdout",
     "output_type": "stream",
     "text": [
      "('Jack Sparrow', 99365401, 'jack@gmain.com', Decimal('67'))\n",
      "('Orhan Pumak', 9065401, 'orri@gmain.com', Decimal('78'))\n"
     ]
    }
   ],
   "source": [
    "#Task 3\n",
    "join_query = \"\"\"\n",
    "SELECT Customers.FullName, Customers.ContactNumber, Customers.Email, Orders.TotalCost \n",
    "FROM Customers \n",
    "INNER JOIN Bookings ON Customers.CustomerID=Bookings.CustomerID\n",
    "INNER JOIN Orders ON Bookings.BookingID = Orders.BookingID\n",
    "WHERE Orders.TotalCost>60;\n",
    "\"\"\"\n",
    "cursor.execute(join_query)\n",
    "results = cursor.fetchall()\n",
    "# print(results)\n",
    "for result in results:\n",
    "    print(result)"
   ]
  },
  {
   "cell_type": "code",
   "execution_count": null,
   "id": "30770c46",
   "metadata": {},
   "outputs": [],
   "source": []
  }
 ],
 "metadata": {
  "kernelspec": {
   "display_name": "Python 3 (ipykernel)",
   "language": "python",
   "name": "python3"
  },
  "language_info": {
   "codemirror_mode": {
    "name": "ipython",
    "version": 3
   },
   "file_extension": ".py",
   "mimetype": "text/x-python",
   "name": "python",
   "nbconvert_exporter": "python",
   "pygments_lexer": "ipython3",
   "version": "3.11.1"
  }
 },
 "nbformat": 4,
 "nbformat_minor": 5
}
